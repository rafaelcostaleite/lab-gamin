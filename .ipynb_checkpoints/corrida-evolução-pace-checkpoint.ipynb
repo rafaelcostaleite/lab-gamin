{
 "cells": [
  {
   "cell_type": "code",
   "execution_count": 1,
   "metadata": {},
   "outputs": [],
   "source": [
    "# libraries\n",
    "import pymongo\n",
    "import pandas as pd\n",
    "import numpy as np\n",
    "import matplotlib.pyplot as plt\n",
    "from pymongo import MongoClient\n",
    "from mpl_toolkits.mplot3d import Axes3D\n",
    " \n",
    "# Dataset\n",
    "df=pd.DataFrame({'X': range(1,101), 'Y': np.random.randn(100)*15+range(1,101), 'Z': (np.random.randn(100)*15+range(1,101))*2 })\n"
   ]
  },
  {
   "cell_type": "code",
   "execution_count": 2,
   "metadata": {},
   "outputs": [],
   "source": [
    "client = MongoClient()\n",
    "\n",
    "#point the client at mongo URI\n",
    "client = MongoClient(\"localhost\", 27017)\n",
    "\n",
    "#select database\n",
    "db = client['triathlon']\n",
    "\n",
    "#select the collection within the database\n",
    "activities_total = db.activities_total\n",
    "\n",
    "#convert entire collection to Pandas dataframe\n",
    "data_act = pd.DataFrame(list(activities_total.find()))\n",
    "\n",
    "data_1 = pd.json_normalize(data_act['activityType'])\n",
    "\n",
    "result = pd.concat([data_act, data_1], axis=1)"
   ]
  },
  {
   "cell_type": "code",
   "execution_count": 3,
   "metadata": {},
   "outputs": [
    {
     "data": {
      "text/plain": [
       "['_id',\n",
       " 'activityId',\n",
       " 'activityName',\n",
       " 'description',\n",
       " 'startTimeLocal',\n",
       " 'startTimeGMT',\n",
       " 'activityType',\n",
       " 'eventType',\n",
       " 'comments',\n",
       " 'parentId',\n",
       " 'distance',\n",
       " 'duration',\n",
       " 'elapsedDuration',\n",
       " 'movingDuration',\n",
       " 'elevationGain',\n",
       " 'elevationLoss',\n",
       " 'averageSpeed',\n",
       " 'maxSpeed',\n",
       " 'startLatitude',\n",
       " 'startLongitude',\n",
       " 'hasPolyline',\n",
       " 'ownerId',\n",
       " 'ownerDisplayName',\n",
       " 'ownerFullName',\n",
       " 'ownerProfileImageUrlSmall',\n",
       " 'ownerProfileImageUrlMedium',\n",
       " 'ownerProfileImageUrlLarge',\n",
       " 'calories',\n",
       " 'averageHR',\n",
       " 'maxHR',\n",
       " 'averageRunningCadenceInStepsPerMinute',\n",
       " 'maxRunningCadenceInStepsPerMinute',\n",
       " 'averageBikingCadenceInRevPerMinute',\n",
       " 'maxBikingCadenceInRevPerMinute',\n",
       " 'averageSwimCadenceInStrokesPerMinute',\n",
       " 'maxSwimCadenceInStrokesPerMinute',\n",
       " 'averageSwolf',\n",
       " 'activeLengths',\n",
       " 'steps',\n",
       " 'conversationUuid',\n",
       " 'conversationPk',\n",
       " 'numberOfActivityLikes',\n",
       " 'numberOfActivityComments',\n",
       " 'likedByUser',\n",
       " 'commentedByUser',\n",
       " 'activityLikeDisplayNames',\n",
       " 'activityLikeFullNames',\n",
       " 'requestorRelationship',\n",
       " 'userRoles',\n",
       " 'privacy',\n",
       " 'userPro',\n",
       " 'courseId',\n",
       " 'poolLength',\n",
       " 'unitOfPoolLength',\n",
       " 'hasVideo',\n",
       " 'videoUrl',\n",
       " 'timeZoneId',\n",
       " 'beginTimestamp',\n",
       " 'sportTypeId',\n",
       " 'avgPower',\n",
       " 'maxPower',\n",
       " 'aerobicTrainingEffect',\n",
       " 'anaerobicTrainingEffect',\n",
       " 'strokes',\n",
       " 'normPower',\n",
       " 'leftBalance',\n",
       " 'rightBalance',\n",
       " 'avgLeftBalance',\n",
       " 'max20MinPower',\n",
       " 'avgVerticalOscillation',\n",
       " 'avgGroundContactTime',\n",
       " 'avgStrideLength',\n",
       " 'avgFractionalCadence',\n",
       " 'maxFractionalCadence',\n",
       " 'trainingStressScore',\n",
       " 'intensityFactor',\n",
       " 'vO2MaxValue',\n",
       " 'avgVerticalRatio',\n",
       " 'avgGroundContactBalance',\n",
       " 'lactateThresholdBpm',\n",
       " 'lactateThresholdSpeed',\n",
       " 'maxFtp',\n",
       " 'avgStrokeDistance',\n",
       " 'avgStrokeCadence',\n",
       " 'maxStrokeCadence',\n",
       " 'workoutId',\n",
       " 'avgStrokes',\n",
       " 'minStrokes',\n",
       " 'deviceId',\n",
       " 'minTemperature',\n",
       " 'maxTemperature',\n",
       " 'minElevation',\n",
       " 'maxElevation',\n",
       " 'avgDoubleCadence',\n",
       " 'maxDoubleCadence',\n",
       " 'summarizedExerciseSets',\n",
       " 'maxDepth',\n",
       " 'avgDepth',\n",
       " 'surfaceInterval',\n",
       " 'startN2',\n",
       " 'endN2',\n",
       " 'startCns',\n",
       " 'endCns',\n",
       " 'summarizedDiveInfo',\n",
       " 'activityLikeAuthors',\n",
       " 'avgVerticalSpeed',\n",
       " 'maxVerticalSpeed',\n",
       " 'floorsClimbed',\n",
       " 'floorsDescended',\n",
       " 'manufacturer',\n",
       " 'diveNumber',\n",
       " 'locationName',\n",
       " 'bottomTime',\n",
       " 'lapCount',\n",
       " 'endLatitude',\n",
       " 'endLongitude',\n",
       " 'minAirSpeed',\n",
       " 'maxAirSpeed',\n",
       " 'avgAirSpeed',\n",
       " 'avgWindYawAngle',\n",
       " 'minCda',\n",
       " 'maxCda',\n",
       " 'avgCda',\n",
       " 'avgWattsPerCda',\n",
       " 'flow',\n",
       " 'grit',\n",
       " 'jumpCount',\n",
       " 'caloriesEstimated',\n",
       " 'caloriesConsumed',\n",
       " 'waterEstimated',\n",
       " 'waterConsumed',\n",
       " 'maxAvgPower_1',\n",
       " 'maxAvgPower_2',\n",
       " 'maxAvgPower_5',\n",
       " 'maxAvgPower_10',\n",
       " 'maxAvgPower_20',\n",
       " 'maxAvgPower_30',\n",
       " 'maxAvgPower_60',\n",
       " 'maxAvgPower_120',\n",
       " 'maxAvgPower_300',\n",
       " 'maxAvgPower_600',\n",
       " 'maxAvgPower_1200',\n",
       " 'maxAvgPower_1800',\n",
       " 'maxAvgPower_3600',\n",
       " 'maxAvgPower_7200',\n",
       " 'maxAvgPower_18000',\n",
       " 'excludeFromPowerCurveReports',\n",
       " 'totalSets',\n",
       " 'activeSets',\n",
       " 'totalReps',\n",
       " 'minRespirationRate',\n",
       " 'maxRespirationRate',\n",
       " 'avgRespirationRate',\n",
       " 'trainingEffectLabel',\n",
       " 'activityTrainingLoad',\n",
       " 'avgFlow',\n",
       " 'avgGrit',\n",
       " 'minActivityLapDuration',\n",
       " 'avgStress',\n",
       " 'startStress',\n",
       " 'endStress',\n",
       " 'differenceStress',\n",
       " 'aerobicTrainingEffectMessage',\n",
       " 'anaerobicTrainingEffectMessage',\n",
       " 'splitSummaries',\n",
       " 'hasSplits',\n",
       " 'manualActivity',\n",
       " 'favorite',\n",
       " 'decoDive',\n",
       " 'pr',\n",
       " 'autoCalcCalories',\n",
       " 'parent',\n",
       " 'atpActivity',\n",
       " 'purposeful',\n",
       " 'elevationCorrected',\n",
       " 'typeId',\n",
       " 'typeKey',\n",
       " 'parentTypeId',\n",
       " 'sortOrder',\n",
       " 'isHidden']"
      ]
     },
     "execution_count": 3,
     "metadata": {},
     "output_type": "execute_result"
    }
   ],
   "source": [
    "list(result.columns) "
   ]
  },
  {
   "cell_type": "code",
   "execution_count": 4,
   "metadata": {},
   "outputs": [],
   "source": [
    "run = result[['startTimeLocal','typeKey','distance','movingDuration','elevationGain' \\\n",
    "              ,'elevationLoss','averageSpeed','averageHR','averageRunningCadenceInStepsPerMinute' \\\n",
    "         ,'trainingStressScore','intensityFactor','vO2MaxValue','lactateThresholdBpm']]\n",
    "\n",
    "run = run.loc[run['typeKey'] == 'running']"
   ]
  },
  {
   "cell_type": "code",
   "execution_count": 5,
   "metadata": {},
   "outputs": [
    {
     "name": "stdout",
     "output_type": "stream",
     "text": [
      "          startTimeLocal  typeKey      distance  movingDuration  \\\n",
      "2    2020-10-07 11:55:28  running  11060.179688     4199.225014   \n",
      "5    2020-10-01 07:41:09  running   9032.209961     3648.050018   \n",
      "7    2020-09-29 07:06:10  running  10007.969727     4158.932010   \n",
      "9    2020-09-27 10:26:38  running  12465.280273     4244.432007   \n",
      "11   2020-09-25 07:06:03  running   9524.280273     3273.306992   \n",
      "..                   ...      ...           ...             ...   \n",
      "932  2016-03-27 07:37:19  running  18012.090000             NaN   \n",
      "933  2016-03-20 09:43:08  running   9538.650000             NaN   \n",
      "939  2016-03-12 10:32:38  running   5011.660000             NaN   \n",
      "941  2016-03-06 07:13:00  running  15009.600000             NaN   \n",
      "942  2016-03-05 10:49:47  running   6603.900000             NaN   \n",
      "\n",
      "     elevationGain  elevationLoss  averageSpeed  averageHR  \\\n",
      "2            137.0          128.0         2.632        NaN   \n",
      "5            189.0          172.0         2.453        NaN   \n",
      "7            172.0          180.0         2.388        NaN   \n",
      "9             28.0           18.0         2.936        NaN   \n",
      "11            16.0           14.0         2.907       72.0   \n",
      "..             ...            ...           ...        ...   \n",
      "932          316.0          325.0         2.969      161.0   \n",
      "933          244.0          253.0         2.934      176.0   \n",
      "939           77.0           68.0         3.264      180.0   \n",
      "941           49.0           54.0         3.392      178.0   \n",
      "942          161.0          157.0         3.053      168.0   \n",
      "\n",
      "     averageRunningCadenceInStepsPerMinute trainingStressScore  \\\n",
      "2                                178.28125                None   \n",
      "5                                175.31250                None   \n",
      "7                                179.71875                None   \n",
      "9                                182.28125                None   \n",
      "11                               181.18750                None   \n",
      "..                                     ...                 ...   \n",
      "932                                    NaN                None   \n",
      "933                                    NaN                None   \n",
      "939                                    NaN                None   \n",
      "941                                    NaN                None   \n",
      "942                                    NaN                None   \n",
      "\n",
      "    intensityFactor  vO2MaxValue lactateThresholdBpm  \n",
      "2              None          NaN                None  \n",
      "5              None          NaN                None  \n",
      "7              None          NaN                None  \n",
      "9              None          NaN                None  \n",
      "11             None          NaN                None  \n",
      "..              ...          ...                 ...  \n",
      "932            None          NaN                None  \n",
      "933            None          NaN                None  \n",
      "939            None          NaN                None  \n",
      "941            None          NaN                None  \n",
      "942            None          NaN                None  \n",
      "\n",
      "[241 rows x 13 columns]\n"
     ]
    }
   ],
   "source": [
    "#print(result.loc[result['typeKey'] == 'running'])\n",
    "print(run)"
   ]
  },
  {
   "cell_type": "code",
   "execution_count": 6,
   "metadata": {},
   "outputs": [
    {
     "data": {
      "image/png": "[encoded data removed]",
      "text/plain": [
       "<Figure size 432x288 with 1 Axes>"
      ]
     },
     "metadata": {
      "needs_background": "light"
     },
     "output_type": "display_data"
    }
   ],
   "source": [
    "# plot\n",
    "fig = plt.figure()\n",
    "ax = fig.add_subplot(111, projection='3d')\n",
    "ax.scatter(run['distance'],run['averageSpeed'],run['averageHR'], c='skyblue', s=60)\n",
    "ax.view_init(30, 185)\n",
    "plt.show()\n"
   ]
  },
  {
   "cell_type": "code",
   "execution_count": 24,
   "metadata": {},
   "outputs": [],
   "source": [
    "run['pace'] = 1/run['averageSpeed']*1000/60"
   ]
  },
  {
   "cell_type": "code",
   "execution_count": 22,
   "metadata": {},
   "outputs": [
    {
     "data": {
      "text/plain": [
       "['startTimeLocal',\n",
       " 'typeKey',\n",
       " 'distance',\n",
       " 'movingDuration',\n",
       " 'elevationGain',\n",
       " 'elevationLoss',\n",
       " 'averageSpeed',\n",
       " 'averageHR',\n",
       " 'averageRunningCadenceInStepsPerMinute',\n",
       " 'trainingStressScore',\n",
       " 'intensityFactor',\n",
       " 'vO2MaxValue',\n",
       " 'lactateThresholdBpm',\n",
       " 'pace']"
      ]
     },
     "execution_count": 22,
     "metadata": {},
     "output_type": "execute_result"
    }
   ],
   "source": [
    "list(run.columns)"
   ]
  },
  {
   "cell_type": "code",
   "execution_count": 25,
   "metadata": {},
   "outputs": [
    {
     "name": "stdout",
     "output_type": "stream",
     "text": [
      "2      6.332320\n",
      "5      6.794401\n",
      "7      6.979341\n",
      "9      5.676657\n",
      "11     5.733287\n",
      "         ...   \n",
      "932    5.613562\n",
      "933    5.680527\n",
      "939    5.106209\n",
      "941    4.913522\n",
      "942    5.459111\n",
      "Name: pace, Length: 241, dtype: float64\n"
     ]
    }
   ],
   "source": [
    "print(run['pace'])"
   ]
  },
  {
   "cell_type": "code",
   "execution_count": 27,
   "metadata": {},
   "outputs": [
    {
     "ename": "OverflowError",
     "evalue": "cannot convert float infinity to integer",
     "output_type": "error",
     "traceback": [
      "\u001b[0;31m---------------------------------------------------------------------------\u001b[0m",
      "\u001b[0;31mOverflowError\u001b[0m                             Traceback (most recent call last)",
      "\u001b[0;32m<ipython-input-27-5c4327528799>\u001b[0m in \u001b[0;36m<module>\u001b[0;34m\u001b[0m\n\u001b[1;32m      3\u001b[0m \u001b[0;34m\u001b[0m\u001b[0m\n\u001b[1;32m      4\u001b[0m \u001b[0;31m# Custom the inside plot: options are: “scatter” | “reg” | “resid” | “kde” | “hex”\u001b[0m\u001b[0;34m\u001b[0m\u001b[0;34m\u001b[0m\u001b[0;34m\u001b[0m\u001b[0m\n\u001b[0;32m----> 5\u001b[0;31m \u001b[0msns\u001b[0m\u001b[0;34m.\u001b[0m\u001b[0mjointplot\u001b[0m\u001b[0;34m(\u001b[0m\u001b[0mx\u001b[0m\u001b[0;34m=\u001b[0m\u001b[0mrun\u001b[0m\u001b[0;34m[\u001b[0m\u001b[0;34m'pace'\u001b[0m\u001b[0;34m]\u001b[0m\u001b[0;34m,\u001b[0m \u001b[0my\u001b[0m\u001b[0;34m=\u001b[0m\u001b[0mrun\u001b[0m\u001b[0;34m[\u001b[0m\u001b[0;34m'averageHR'\u001b[0m\u001b[0;34m]\u001b[0m\u001b[0;34m,\u001b[0m \u001b[0mkind\u001b[0m\u001b[0;34m=\u001b[0m\u001b[0;34m'hex'\u001b[0m\u001b[0;34m)\u001b[0m\u001b[0;34m\u001b[0m\u001b[0;34m\u001b[0m\u001b[0m\n\u001b[0m",
      "\u001b[0;32m~/Apps/anaconda3/lib/python3.8/site-packages/seaborn/axisgrid.py\u001b[0m in \u001b[0;36mjointplot\u001b[0;34m(x, y, data, kind, stat_func, color, height, ratio, space, dropna, xlim, ylim, joint_kws, marginal_kws, annot_kws, **kwargs)\u001b[0m\n\u001b[1;32m   2295\u001b[0m     \u001b[0;32melif\u001b[0m \u001b[0mkind\u001b[0m\u001b[0;34m.\u001b[0m\u001b[0mstartswith\u001b[0m\u001b[0;34m(\u001b[0m\u001b[0;34m\"hex\"\u001b[0m\u001b[0;34m)\u001b[0m\u001b[0;34m:\u001b[0m\u001b[0;34m\u001b[0m\u001b[0;34m\u001b[0m\u001b[0m\n\u001b[1;32m   2296\u001b[0m \u001b[0;34m\u001b[0m\u001b[0m\n\u001b[0;32m-> 2297\u001b[0;31m         \u001b[0mx_bins\u001b[0m \u001b[0;34m=\u001b[0m \u001b[0mmin\u001b[0m\u001b[0;34m(\u001b[0m\u001b[0m_freedman_diaconis_bins\u001b[0m\u001b[0;34m(\u001b[0m\u001b[0mgrid\u001b[0m\u001b[0;34m.\u001b[0m\u001b[0mx\u001b[0m\u001b[0;34m)\u001b[0m\u001b[0;34m,\u001b[0m \u001b[0;36m50\u001b[0m\u001b[0;34m)\u001b[0m\u001b[0;34m\u001b[0m\u001b[0;34m\u001b[0m\u001b[0m\n\u001b[0m\u001b[1;32m   2298\u001b[0m         \u001b[0my_bins\u001b[0m \u001b[0;34m=\u001b[0m \u001b[0mmin\u001b[0m\u001b[0;34m(\u001b[0m\u001b[0m_freedman_diaconis_bins\u001b[0m\u001b[0;34m(\u001b[0m\u001b[0mgrid\u001b[0m\u001b[0;34m.\u001b[0m\u001b[0my\u001b[0m\u001b[0;34m)\u001b[0m\u001b[0;34m,\u001b[0m \u001b[0;36m50\u001b[0m\u001b[0;34m)\u001b[0m\u001b[0;34m\u001b[0m\u001b[0;34m\u001b[0m\u001b[0m\n\u001b[1;32m   2299\u001b[0m         \u001b[0mgridsize\u001b[0m \u001b[0;34m=\u001b[0m \u001b[0mint\u001b[0m\u001b[0;34m(\u001b[0m\u001b[0mnp\u001b[0m\u001b[0;34m.\u001b[0m\u001b[0mmean\u001b[0m\u001b[0;34m(\u001b[0m\u001b[0;34m[\u001b[0m\u001b[0mx_bins\u001b[0m\u001b[0;34m,\u001b[0m \u001b[0my_bins\u001b[0m\u001b[0;34m]\u001b[0m\u001b[0;34m)\u001b[0m\u001b[0;34m)\u001b[0m\u001b[0;34m\u001b[0m\u001b[0;34m\u001b[0m\u001b[0m\n",
      "\u001b[0;32m~/Apps/anaconda3/lib/python3.8/site-packages/seaborn/distributions.py\u001b[0m in \u001b[0;36m_freedman_diaconis_bins\u001b[0;34m(a)\u001b[0m\n\u001b[1;32m     33\u001b[0m         \u001b[0;32mreturn\u001b[0m \u001b[0mint\u001b[0m\u001b[0;34m(\u001b[0m\u001b[0mnp\u001b[0m\u001b[0;34m.\u001b[0m\u001b[0msqrt\u001b[0m\u001b[0;34m(\u001b[0m\u001b[0ma\u001b[0m\u001b[0;34m.\u001b[0m\u001b[0msize\u001b[0m\u001b[0;34m)\u001b[0m\u001b[0;34m)\u001b[0m\u001b[0;34m\u001b[0m\u001b[0;34m\u001b[0m\u001b[0m\n\u001b[1;32m     34\u001b[0m     \u001b[0;32melse\u001b[0m\u001b[0;34m:\u001b[0m\u001b[0;34m\u001b[0m\u001b[0;34m\u001b[0m\u001b[0m\n\u001b[0;32m---> 35\u001b[0;31m         \u001b[0;32mreturn\u001b[0m \u001b[0mint\u001b[0m\u001b[0;34m(\u001b[0m\u001b[0mnp\u001b[0m\u001b[0;34m.\u001b[0m\u001b[0mceil\u001b[0m\u001b[0;34m(\u001b[0m\u001b[0;34m(\u001b[0m\u001b[0ma\u001b[0m\u001b[0;34m.\u001b[0m\u001b[0mmax\u001b[0m\u001b[0;34m(\u001b[0m\u001b[0;34m)\u001b[0m \u001b[0;34m-\u001b[0m \u001b[0ma\u001b[0m\u001b[0;34m.\u001b[0m\u001b[0mmin\u001b[0m\u001b[0;34m(\u001b[0m\u001b[0;34m)\u001b[0m\u001b[0;34m)\u001b[0m \u001b[0;34m/\u001b[0m \u001b[0mh\u001b[0m\u001b[0;34m)\u001b[0m\u001b[0;34m)\u001b[0m\u001b[0;34m\u001b[0m\u001b[0;34m\u001b[0m\u001b[0m\n\u001b[0m\u001b[1;32m     36\u001b[0m \u001b[0;34m\u001b[0m\u001b[0m\n\u001b[1;32m     37\u001b[0m \u001b[0;34m\u001b[0m\u001b[0m\n",
      "\u001b[0;31mOverflowError\u001b[0m: cannot convert float infinity to integer"
     ]
    },
    {
     "data": {
      "image/png": "[encoded data removed]",
      "text/plain": [
       "<Figure size 432x432 with 3 Axes>"
      ]
     },
     "metadata": {
      "needs_background": "light"
     },
     "output_type": "display_data"
    }
   ],
   "source": [
    "# library & dataset\n",
    "import seaborn as sns\n",
    " \n",
    "# Custom the inside plot: options are: “scatter” | “reg” | “resid” | “kde” | “hex”\n",
    "sns.jointplot(x=run['pace'], y=run['averageHR'], kind='hex')\n"
   ]
  },
  {
   "cell_type": "code",
   "execution_count": null,
   "metadata": {},
   "outputs": [],
   "source": []
  }
 ],
 "metadata": {
  "kernelspec": {
   "display_name": "Python 3",
   "language": "python",
   "name": "python3"
  },
  "language_info": {
   "codemirror_mode": {
    "name": "ipython",
    "version": 3
   },
   "file_extension": ".py",
   "mimetype": "text/x-python",
   "name": "python",
   "nbconvert_exporter": "python",
   "pygments_lexer": "ipython3",
   "version": "3.8.3"
  }
 },
 "nbformat": 4,
 "nbformat_minor": 4
}
